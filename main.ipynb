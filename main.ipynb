{
 "cells": [
  {
   "cell_type": "markdown",
   "id": "859768cc",
   "metadata": {},
   "source": [
    "# Building a Practical LLM-Powered Solution"
   ]
  },
  {
   "cell_type": "markdown",
   "id": "64d50160",
   "metadata": {},
   "source": [
    "We are going to build a useful application powered by an OpenAI language model."
   ]
  },
  {
   "cell_type": "markdown",
   "id": "fedc4ea9",
   "metadata": {},
   "source": [
    "### The goal is to design a tool that acts like a smart web browser:"
   ]
  },
  {
   "cell_type": "markdown",
   "id": "051a8754",
   "metadata": {},
   "source": [
    "you provide it with a URL, and it summarizes the content for you in a concise and clear way—a true Reader's Digest for the Internet!"
   ]
  },
  {
   "cell_type": "code",
   "execution_count": 1,
   "id": "363d5f54",
   "metadata": {},
   "outputs": [],
   "source": [
    "import os\n",
    "import requests\n",
    "from dotenv import load_dotenv\n",
    "from bs4 import BeautifulSoup\n",
    "from IPython.display import Markdown, display\n",
    "from openai import OpenAI"
   ]
  },
  {
   "cell_type": "markdown",
   "id": "3956a390",
   "metadata": {},
   "source": [
    "# Connecting to OpenAI\n",
    "\n",
    "The next cell is where we load in the environment variables in our `.env` file and connect to OpenAI."
   ]
  },
  {
   "cell_type": "code",
   "execution_count": 2,
   "id": "729eb07e",
   "metadata": {},
   "outputs": [
    {
     "name": "stdout",
     "output_type": "stream",
     "text": [
      "API key found and looks good so far!\n"
     ]
    }
   ],
   "source": [
    "# Load environment variables in a file called .env\n",
    "\n",
    "load_dotenv()\n",
    "api_key = os.getenv('OPENAI_API_KEY')\n",
    "\n",
    "# Check the key\n",
    "\n",
    "if not api_key:\n",
    "    print(\"No API key was found\")\n",
    "elif not api_key.startswith(\"sk-proj-\"):\n",
    "    print(\"An API key was found, but it doesn't start sk-proj-\")\n",
    "elif api_key.strip() != api_key:\n",
    "    print(\"An API key was found, but it looks like it might have space or tab characters at the start or end\")\n",
    "else:\n",
    "    print(\"API key found and looks good so far!\")"
   ]
  },
  {
   "cell_type": "code",
   "execution_count": 3,
   "id": "cee70c04",
   "metadata": {},
   "outputs": [],
   "source": [
    "openai = OpenAI()"
   ]
  },
  {
   "cell_type": "code",
   "execution_count": 4,
   "id": "285bc5e5",
   "metadata": {},
   "outputs": [],
   "source": [
    "# A class to represent a Webpage\n",
    "\n",
    "class Website:\n",
    "    def __init__(self, url):\n",
    "        \"\"\"\n",
    "        Create this Website object from the given url using the BeautifulSoup library\n",
    "        \"\"\"\n",
    "        self.url = url\n",
    "        response = requests.get(url)\n",
    "        soup = BeautifulSoup(response.content, 'html.parser')\n",
    "        self.title = soup.title.string if soup.title else \"No title found\"\n",
    "        for irrelevant in soup.body([\"script\", \"style\", \"img\", \"input\"]):\n",
    "            irrelevant.decompose()\n",
    "        self.text = soup.body.get_text(separator=\"\\n\", strip=True)"
   ]
  },
  {
   "cell_type": "code",
   "execution_count": 5,
   "id": "cacb41d1",
   "metadata": {},
   "outputs": [
    {
     "name": "stdout",
     "output_type": "stream",
     "text": [
      "Home - Arshile Gorky Foundation\n",
      "Skip to content\n",
      "The Arshile Gorky Foundation\n",
      "Foundation\n",
      "Artist\n",
      "Catalogue Raisonné\n",
      "News\n",
      "Menu\n",
      "Foundation\n",
      "Artist\n",
      "Catalogue Raisonné\n",
      "News\n",
      "Arshile Gorky and his oldest daughter Maro moving from Roxbury to Sherman, Connecticut, September 1945. Photograph by Agnes Magruder Gorky.\n",
      "View More\n",
      "News\n",
      "Arshile Gorky: New York City\n",
      "Hauser & Wirth, New York\n",
      "September 4–October 26, 2024\n",
      "Hauser & Wirth\n",
      ", New York,\n",
      "Arshile Gorky: New York City\n",
      ", September 4–October 26, 2024.\n",
      "Arshile Gorky Catalogue Raisonné\n",
      "November 12, 2021\n",
      "The Arshile Gorky Foundation publishes the\n",
      "Arshile Gorky Catalogue Raisonné\n",
      ".\n",
      "Arshile Gorky: Beyond The Limit\n",
      "Hauser & Wirth, New York\n",
      "November 16–December 23, 2021\n",
      "Hauser & Wirth\n",
      ", New York,\n",
      "Arshile Gorky: Beyond\n",
      "The Limit, November 16–December 23, 2021.\n",
      "All works by Arshile Gorky © 2020 The Arshile Gorky Foundation / Artists Rights Society (ARS), New York.\n",
      "Site Index\n",
      "Back To Top\n"
     ]
    }
   ],
   "source": [
    "# Let's try one out. Change the website and add print statements to follow along.\n",
    "\n",
    "website = Website(\"https://www.arshilegorkyfoundation.org/\")\n",
    "print(website.title)\n",
    "print(website.text)"
   ]
  },
  {
   "cell_type": "markdown",
   "id": "9121ecf8",
   "metadata": {},
   "source": [
    "## Types of prompts\n",
    "\n",
    "Models like GPT4o have been trained to receive instructions in a particular way.\n",
    "\n",
    "They expect to receive:\n",
    "\n",
    "**A system prompt** that tells them what task they are performing and what tone they should use\n",
    "\n",
    "**A user prompt** the conversation starter that they should reply to"
   ]
  },
  {
   "cell_type": "code",
   "execution_count": 6,
   "id": "addc6d66",
   "metadata": {},
   "outputs": [],
   "source": [
    "# Define our system prompt - you can experiment with this, changing the last sentence to 'Respond in markdown in Spanish.\"\n",
    "\n",
    "system_prompt = \"You are an assistant that analyzes the contents of a website \\\n",
    "and provides a short summary, ignoring text that might be navigation related. \\\n",
    "Respond in markdown.\""
   ]
  },
  {
   "cell_type": "code",
   "execution_count": 7,
   "id": "3e367818",
   "metadata": {},
   "outputs": [],
   "source": [
    "# A function that writes a User Prompt that asks for summaries of websites:\n",
    "\n",
    "def user_prompt_for(website):\n",
    "    user_prompt = f\"You are looking at a website titled {website.title}\"\n",
    "    user_prompt += \"\\nThe contents of this website is as follows; \\\n",
    "please provide a short summary of this website in markdown. \\\n",
    "If it includes news or announcements, then summarize these too.\\n\\n\"\n",
    "    user_prompt += website.text\n",
    "    return user_prompt"
   ]
  },
  {
   "cell_type": "code",
   "execution_count": 8,
   "id": "ffe60a1d",
   "metadata": {},
   "outputs": [
    {
     "name": "stdout",
     "output_type": "stream",
     "text": [
      "You are looking at a website titled Home - Arshile Gorky Foundation\n",
      "The contents of this website is as follows; please provide a short summary of this website in markdown. If it includes news or announcements, then summarize these too.\n",
      "\n",
      "Skip to content\n",
      "The Arshile Gorky Foundation\n",
      "Foundation\n",
      "Artist\n",
      "Catalogue Raisonné\n",
      "News\n",
      "Menu\n",
      "Foundation\n",
      "Artist\n",
      "Catalogue Raisonné\n",
      "News\n",
      "Arshile Gorky and his oldest daughter Maro moving from Roxbury to Sherman, Connecticut, September 1945. Photograph by Agnes Magruder Gorky.\n",
      "View More\n",
      "News\n",
      "Arshile Gorky: New York City\n",
      "Hauser & Wirth, New York\n",
      "September 4–October 26, 2024\n",
      "Hauser & Wirth\n",
      ", New York,\n",
      "Arshile Gorky: New York City\n",
      ", September 4–October 26, 2024.\n",
      "Arshile Gorky Catalogue Raisonné\n",
      "November 12, 2021\n",
      "The Arshile Gorky Foundation publishes the\n",
      "Arshile Gorky Catalogue Raisonné\n",
      ".\n",
      "Arshile Gorky: Beyond The Limit\n",
      "Hauser & Wirth, New York\n",
      "November 16–December 23, 2021\n",
      "Hauser & Wirth\n",
      ", New York,\n",
      "Arshile Gorky: Beyond\n",
      "The Limit, November 16–December 23, 2021.\n",
      "All works by Arshile Gorky © 2020 The Arshile Gorky Foundation / Artists Rights Society (ARS), New York.\n",
      "Site Index\n",
      "Back To Top\n"
     ]
    }
   ],
   "source": [
    "print(user_prompt_for(website))"
   ]
  },
  {
   "cell_type": "markdown",
   "id": "95b3741c",
   "metadata": {},
   "source": [
    "## Messages\n",
    "\n",
    "The API from OpenAI expects to receive messages in a particular structure.\n",
    "Many of the other APIs share this structure:"
   ]
  },
  {
   "cell_type": "code",
   "execution_count": 9,
   "id": "6d5865a1",
   "metadata": {},
   "outputs": [],
   "source": [
    "# See how this function creates exactly the format above\n",
    "\n",
    "def messages_for(website):\n",
    "    return [\n",
    "        {\"role\": \"system\", \"content\": system_prompt},\n",
    "        {\"role\": \"user\", \"content\": user_prompt_for(website)}\n",
    "    ]"
   ]
  },
  {
   "cell_type": "code",
   "execution_count": 10,
   "id": "c210f8bc",
   "metadata": {},
   "outputs": [
    {
     "data": {
      "text/plain": [
       "[{'role': 'system',\n",
       "  'content': 'You are an assistant that analyzes the contents of a website and provides a short summary, ignoring text that might be navigation related. Respond in markdown.'},\n",
       " {'role': 'user',\n",
       "  'content': 'You are looking at a website titled Home - Arshile Gorky Foundation\\nThe contents of this website is as follows; please provide a short summary of this website in markdown. If it includes news or announcements, then summarize these too.\\n\\nSkip to content\\nThe Arshile Gorky Foundation\\nFoundation\\nArtist\\nCatalogue Raisonné\\nNews\\nMenu\\nFoundation\\nArtist\\nCatalogue Raisonné\\nNews\\nArshile Gorky and his oldest daughter Maro moving from Roxbury to Sherman, Connecticut, September 1945. Photograph by Agnes Magruder Gorky.\\nView More\\nNews\\nArshile Gorky: New York City\\nHauser & Wirth, New York\\nSeptember 4–October 26, 2024\\nHauser & Wirth\\n,\\xa0New York,\\nArshile Gorky: New York City\\n,\\xa0September 4–October 26, 2024.\\nArshile Gorky Catalogue Raisonné\\nNovember 12, 2021\\nThe Arshile Gorky Foundation publishes the\\nArshile Gorky Catalogue Raisonné\\n.\\nArshile Gorky: Beyond The Limit\\nHauser & Wirth, New York\\nNovember 16–December 23, 2021\\nHauser & Wirth\\n,\\xa0New York,\\nArshile Gorky: Beyond\\nThe Limit,\\xa0November 16–December 23, 2021.\\nAll works by Arshile Gorky © 2020 The Arshile Gorky Foundation / Artists Rights Society (ARS), New York.\\nSite Index\\nBack To Top'}]"
      ]
     },
     "execution_count": 10,
     "metadata": {},
     "output_type": "execute_result"
    }
   ],
   "source": [
    "# Try this out, and then try for a few more websites\n",
    "\n",
    "messages_for(website)"
   ]
  },
  {
   "cell_type": "markdown",
   "id": "ee62a745",
   "metadata": {},
   "source": [
    "## Time to bring it together!"
   ]
  },
  {
   "cell_type": "code",
   "execution_count": 11,
   "id": "42cf6cb6",
   "metadata": {},
   "outputs": [],
   "source": [
    "# And now: call the OpenAI API.\n",
    "\n",
    "def summarize(url):\n",
    "    website = Website(url)\n",
    "    response = openai.chat.completions.create(\n",
    "        model = \"gpt-4o-mini\",\n",
    "        messages = messages_for(website)\n",
    "    )\n",
    "    return response.choices[0].message.content"
   ]
  },
  {
   "cell_type": "code",
   "execution_count": 12,
   "id": "e2ef0ff8",
   "metadata": {},
   "outputs": [
    {
     "data": {
      "text/plain": [
       "\"# Summary of the Arshile Gorky Foundation Website\\n\\nThe Arshile Gorky Foundation is dedicated to the life and works of the Armenian-American artist Arshile Gorky. It features information about the foundation's initiatives, Gorky's artistic contributions, and a comprehensive catalogue raisonné of his works.\\n\\n## News and Announcements\\n\\n- **Exhibition: Arshile Gorky: New York City**\\n  - **Location**: Hauser & Wirth, New York\\n  - **Dates**: September 4 – October 26, 2024\\n\\n- **Publication**: The Arshile Gorky Catalogue Raisonné was published on November 12, 2021.\\n\\n- **Exhibition: Arshile Gorky: Beyond The Limit**\\n  - **Location**: Hauser & Wirth, New York\\n  - **Dates**: November 16 – December 23, 2021\\n\\nThe foundation aims to promote Gorky's legacy while providing resources and exhibitions related to his work.\""
      ]
     },
     "execution_count": 12,
     "metadata": {},
     "output_type": "execute_result"
    }
   ],
   "source": [
    "summarize(\"https://www.arshilegorkyfoundation.org/\")"
   ]
  },
  {
   "cell_type": "code",
   "execution_count": 13,
   "id": "aee87bb9",
   "metadata": {},
   "outputs": [],
   "source": [
    "# A function to display this nicely in the Jupyter output, using markdown\n",
    "\n",
    "def display_summary(url):\n",
    "    summary = summarize(url)\n",
    "    display(Markdown(summary))"
   ]
  },
  {
   "cell_type": "code",
   "execution_count": 14,
   "id": "49dd91c9",
   "metadata": {},
   "outputs": [
    {
     "data": {
      "text/markdown": [
       "# Summary of the Arshile Gorky Foundation Website\n",
       "\n",
       "The Arshile Gorky Foundation is dedicated to the life and work of the influential artist Arshile Gorky. The website includes sections about the foundation and Gorky as an artist, as well as information on the Catalogue Raisonné that has been published.\n",
       "\n",
       "## News Highlights\n",
       "\n",
       "- **Exhibition: \"Arshile Gorky: New York City\"**\n",
       "  - **Location**: Hauser & Wirth, New York\n",
       "  - **Dates**: September 4 – October 26, 2024\n",
       "\n",
       "- **Catalogue Raisonné Release**\n",
       "  - The Foundation published the *Arshile Gorky Catalogue Raisonné* on November 12, 2021.\n",
       "\n",
       "- **Exhibition: \"Arshile Gorky: Beyond The Limit\"**\n",
       "  - **Location**: Hauser & Wirth, New York\n",
       "  - **Dates**: November 16 – December 23, 2021.\n",
       "\n",
       "The website showcases Gorky's significance in the art world, especially through upcoming and past exhibitions."
      ],
      "text/plain": [
       "<IPython.core.display.Markdown object>"
      ]
     },
     "metadata": {},
     "output_type": "display_data"
    }
   ],
   "source": [
    "display_summary(\"https://www.arshilegorkyfoundation.org/\")"
   ]
  },
  {
   "cell_type": "markdown",
   "id": "d370ff46",
   "metadata": {},
   "source": [
    "# Let's try more websites\n",
    "\n",
    "Note that this will only work on websites that can be scraped using this simplistic approach.\n",
    "\n",
    "Websites that are rendered with Javascript, like React apps, won't show up. Also Websites protected with CloudFront (and similar) may give 403 errors.\n",
    "\n",
    "But many websites will work just fine!"
   ]
  },
  {
   "cell_type": "code",
   "execution_count": 15,
   "id": "70d78b6f",
   "metadata": {
    "scrolled": true
   },
   "outputs": [
    {
     "data": {
      "text/markdown": [
       "# Summary of Netflix Germany Website\n",
       "\n",
       "The **Netflix Germany** website offers a subscription service that provides access to an extensive library of movies, TV shows, anime, documentaries, and award-winning Netflix originals. The service starts at **€4.99** and can be canceled at any time. \n",
       "\n",
       "## Key Features\n",
       "- **Affordable Plans**: Subscriptions range from €4.99 to €19.99 per month, with no contracts or extra costs.\n",
       "- **Watch Anywhere**: Content can be streamed on various devices, including smart TVs, tablets, and smartphones. \n",
       "- **Offline Viewing**: Users can download shows and movies to watch without an internet connection.\n",
       "- **Kids’ Profiles**: A dedicated space for children that includes parental controls and family-friendly content.\n",
       "- **Trending Content**: Users can see what is currently popular, with highlights including films like *Meet Me Next Christmas* and *Alita: Battle Angel*.\n",
       "\n",
       "## Conclusion\n",
       "Netflix Germany provides an attractive streaming solution for viewers looking for a wide range of entertainment options at a reasonable price, with added features for family use and flexibility in subscription management."
      ],
      "text/plain": [
       "<IPython.core.display.Markdown object>"
      ]
     },
     "metadata": {},
     "output_type": "display_data"
    }
   ],
   "source": [
    "display_summary(\"https://netflix.com\")"
   ]
  },
  {
   "cell_type": "markdown",
   "id": "6995be5c",
   "metadata": {},
   "source": [
    "## Conclusion"
   ]
  },
  {
   "cell_type": "markdown",
   "id": "c208069a",
   "metadata": {},
   "source": [
    "Here we explored how to interact with the Cloud API of a leading AI model like OpenAI's Frontier Model. We specifically applied the power of AI to Summarization — a fundamental use case in Generative AI. Summarization has countless business applications, such as:\n",
    "\n",
    "- Summarizing news articles for quick updates.\n",
    "- Condensing financial performance reports for stakeholders.\n",
    "- Crafting concise resumes or cover letters from extensive details.\n",
    "\n",
    "The possibilities are endless."
   ]
  },
  {
   "cell_type": "code",
   "execution_count": null,
   "id": "03add21d",
   "metadata": {},
   "outputs": [],
   "source": []
  }
 ],
 "metadata": {
  "kernelspec": {
   "display_name": "Python 3 (ipykernel)",
   "language": "python",
   "name": "python3"
  },
  "language_info": {
   "codemirror_mode": {
    "name": "ipython",
    "version": 3
   },
   "file_extension": ".py",
   "mimetype": "text/x-python",
   "name": "python",
   "nbconvert_exporter": "python",
   "pygments_lexer": "ipython3",
   "version": "3.11.5"
  }
 },
 "nbformat": 4,
 "nbformat_minor": 5
}
